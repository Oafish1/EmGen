{
 "cells": [
  {
   "cell_type": "code",
   "execution_count": 1,
   "id": "31b77e2e-0696-4063-8cd5-39a96d28373b",
   "metadata": {},
   "outputs": [],
   "source": [
    "%load_ext autoreload\n",
    "%autoreload 2"
   ]
  },
  {
   "cell_type": "code",
   "execution_count": 2,
   "id": "b7c29bce-27c2-4f86-830d-32eeb3771eae",
   "metadata": {},
   "outputs": [],
   "source": [
    "from emgen import *\n",
    "import pytorch_lightning as pl"
   ]
  },
  {
   "cell_type": "code",
   "execution_count": 15,
   "id": "bccea3b7-ca61-4505-8221-42bf5c99e3b2",
   "metadata": {},
   "outputs": [
    {
     "ename": "AssertionError",
     "evalue": "Should have CUDA for faster computation",
     "output_type": "error",
     "traceback": [
      "\u001b[0;31m---------------------------------------------------------------------------\u001b[0m",
      "\u001b[0;31mAssertionError\u001b[0m                            Traceback (most recent call last)",
      "\u001b[0;32m/tmp/ipykernel_1146/3796648391.py\u001b[0m in \u001b[0;36m<module>\u001b[0;34m\u001b[0m\n\u001b[0;32m----> 1\u001b[0;31m \u001b[0;32massert\u001b[0m \u001b[0mt\u001b[0m\u001b[0;34m.\u001b[0m\u001b[0mcuda\u001b[0m\u001b[0;34m.\u001b[0m\u001b[0mis_available\u001b[0m\u001b[0;34m(\u001b[0m\u001b[0;34m)\u001b[0m \u001b[0;34m==\u001b[0m \u001b[0;32mTrue\u001b[0m\u001b[0;34m,\u001b[0m \u001b[0;34m'Should have CUDA for faster computation'\u001b[0m\u001b[0;34m\u001b[0m\u001b[0;34m\u001b[0m\u001b[0m\n\u001b[0m",
      "\u001b[0;31mAssertionError\u001b[0m: Should have CUDA for faster computation"
     ]
    }
   ],
   "source": [
    "assert t.cuda.is_available() == True, 'Should have CUDA for faster computation'"
   ]
  },
  {
   "cell_type": "code",
   "execution_count": 59,
   "id": "455b517f-1e86-4904-a3ee-8fa89f31b328",
   "metadata": {},
   "outputs": [
    {
     "name": "stderr",
     "output_type": "stream",
     "text": [
      "GPU available: False, used: False\n",
      "TPU available: False, using: 0 TPU cores\n",
      "IPU available: False, using: 0 IPUs\n",
      "\n",
      "  | Name    | Type      | Params\n",
      "--------------------------------------\n",
      "0 | relu    | ReLU      | 0     \n",
      "1 | maxpool | MaxPool2d | 0     \n",
      "2 | flatten | Flatten   | 0     \n",
      "3 | linear  | Linear    | 2.3 M \n",
      "--------------------------------------\n",
      "2.3 M     Trainable params\n",
      "0         Non-trainable params\n",
      "2.3 M     Total params\n",
      "9.216     Total estimated model params size (MB)\n"
     ]
    },
    {
     "data": {
      "application/vnd.jupyter.widget-view+json": {
       "model_id": "2407534f50004843985f325170f94d7c",
       "version_major": 2,
       "version_minor": 0
      },
      "text/plain": [
       "Training: -1it [00:00, ?it/s]"
      ]
     },
     "metadata": {},
     "output_type": "display_data"
    },
    {
     "name": "stdout",
     "output_type": "stream",
     "text": [
      "tensor(1.7513, grad_fn=<SumBackward0>)\n",
      "tensor(0.3540, grad_fn=<SumBackward0>)\n",
      "tensor(14.3495, grad_fn=<SumBackward0>)\n"
     ]
    }
   ],
   "source": [
    "model = emgen_model()\n",
    "train_dataloader = emgen_dataloader('./data')\n",
    "#trainer = pl.Trainer(gpus=1, max_epochs=1)\n",
    "trainer = pl.Trainer(max_epochs=1)\n",
    "trainer.fit(model, train_dataloader)"
   ]
  },
  {
   "cell_type": "code",
   "execution_count": null,
   "id": "cf949f01-7825-4880-b5c4-a91dbf17d7b5",
   "metadata": {},
   "outputs": [],
   "source": []
  }
 ],
 "metadata": {
  "kernelspec": {
   "display_name": "Python 3 (ipykernel)",
   "language": "python",
   "name": "python3"
  },
  "language_info": {
   "codemirror_mode": {
    "name": "ipython",
    "version": 3
   },
   "file_extension": ".py",
   "mimetype": "text/x-python",
   "name": "python",
   "nbconvert_exporter": "python",
   "pygments_lexer": "ipython3",
   "version": "3.9.1"
  }
 },
 "nbformat": 4,
 "nbformat_minor": 5
}
