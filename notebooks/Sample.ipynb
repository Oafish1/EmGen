{
 "cells": [
  {
   "cell_type": "code",
   "execution_count": 1,
   "id": "31b77e2e-0696-4063-8cd5-39a96d28373b",
   "metadata": {},
   "outputs": [],
   "source": [
    "%load_ext autoreload\n",
    "%autoreload 2"
   ]
  },
  {
   "cell_type": "code",
   "execution_count": 2,
   "id": "b7c29bce-27c2-4f86-830d-32eeb3771eae",
   "metadata": {},
   "outputs": [],
   "source": [
    "from emgen import *\n",
    "import matplotlib.pyplot as plt\n",
    "import pytorch_lightning as pl\n",
    "from pytorch_lightning.callbacks.early_stopping import EarlyStopping"
   ]
  },
  {
   "cell_type": "code",
   "execution_count": 3,
   "id": "bccea3b7-ca61-4505-8221-42bf5c99e3b2",
   "metadata": {},
   "outputs": [
    {
     "name": "stdout",
     "output_type": "stream",
     "text": [
      "Should have CUDA for faster computation\n"
     ]
    }
   ],
   "source": [
    "if not t.cuda.is_available():\n",
    "    print('Should have CUDA for faster computation')"
   ]
  },
  {
   "cell_type": "code",
   "execution_count": null,
   "id": "455b517f-1e86-4904-a3ee-8fa89f31b328",
   "metadata": {},
   "outputs": [],
   "source": [
    "model = emgen_model()\n",
    "dataloader = emgen_dataloader('./data/labels.csv', './data')\n",
    "\n",
    "history_cb = GetMetrics()\n",
    "callbacks = [EarlyStopping(monitor='train_loss', # Change to val_loss with real dataset\n",
    "                           min_delta=.01,\n",
    "                           patience=5,\n",
    "                           mode='min',\n",
    "                           verbose=False),\n",
    "             history_cb]\n",
    "trainer = pl.Trainer(max_epochs=10, callbacks=callbacks)\n",
    "trainer.fit(model, dataloader)"
   ]
  },
  {
   "cell_type": "code",
   "execution_count": null,
   "id": "7f411ea1-0279-4ddb-9fce-6da8f5f20d4f",
   "metadata": {},
   "outputs": [],
   "source": [
    "plot_training(history_cb.history_train)"
   ]
  },
  {
   "cell_type": "code",
   "execution_count": null,
   "id": "cf949f01-7825-4880-b5c4-a91dbf17d7b5",
   "metadata": {},
   "outputs": [],
   "source": [
    "batch = next(iter(dataloader.train_dataloader()))\n",
    "embeddings = model(batch[0])\n",
    "labels = batch[1]\n",
    "pca_visualize(embeddings, labels)"
   ]
  }
 ],
 "metadata": {
  "kernelspec": {
   "display_name": "Python 3 (ipykernel)",
   "language": "python",
   "name": "python3"
  },
  "language_info": {
   "codemirror_mode": {
    "name": "ipython",
    "version": 3
   },
   "file_extension": ".py",
   "mimetype": "text/x-python",
   "name": "python",
   "nbconvert_exporter": "python",
   "pygments_lexer": "ipython3",
   "version": "3.9.1"
  }
 },
 "nbformat": 4,
 "nbformat_minor": 5
}
